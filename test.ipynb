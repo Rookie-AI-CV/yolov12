{
 "cells": [
  {
   "cell_type": "markdown",
   "metadata": {},
   "source": [
    "# YOLO12"
   ]
  },
  {
   "cell_type": "markdown",
   "metadata": {},
   "source": [
    "## CUDA 版本配置 "
   ]
  },
  {
   "cell_type": "code",
   "execution_count": 1,
   "metadata": {},
   "outputs": [
    {
     "name": "stdout",
     "output_type": "stream",
     "text": [
      "C:\\Program Files\\NVIDIA GPU Computing Toolkit\\CUDA\\v11.8\\include;c:\\Users\\Rooki\\.conda\\envs\\yolov12;C:\\Users\\Rooki\\.conda\\envs\\yolov12;C:\\Users\\Rooki\\.conda\\envs\\yolov12\\Library\\mingw-w64\\bin;C:\\Users\\Rooki\\.conda\\envs\\yolov12\\Library\\usr\\bin;C:\\Users\\Rooki\\.conda\\envs\\yolov12\\Library\\bin;C:\\Users\\Rooki\\.conda\\envs\\yolov12\\Scripts;C:\\Users\\Rooki\\.conda\\envs\\yolov12\\bin;C:\\ProgramData\\miniconda3\\condabin;C:\\Program Files\\NVIDIA GPU Computing Toolkit\\CUDA\\v11.8\\bin;C:\\Program Files\\NVIDIA GPU Computing Toolkit\\CUDA\\v11.8\\libnvvp;C:\\Program Files\\NVIDIA GPU Computing Toolkit\\CUDA\\v12.1\\bin;C:\\Program Files\\NVIDIA GPU Computing Toolkit\\CUDA\\v12.1\\libnvvp;.;C:\\windows\\system32;C:\\windows;C:\\windows\\System32\\Wbem;C:\\windows\\System32\\WindowsPowerShell\\v1.0;C:\\windows\\System32\\OpenSSH;C:\\Program Files (x86)\\NVIDIA Corporation\\PhysX\\Common;C:\\Program Files\\NVIDIA Corporation\\NVIDIA NvDLISR;C:\\Users\\Administrator\\AppData\\Local\\Microsoft\\WindowsApps;C:\\Program Files\\HP\\OMEN-Broadcast\\Common;C:\\Program Files\\Git\\cmd;c:\\Users\\Rooki\\AppData\\Local\\Programs\\cursor\\resources\\app\\bin;C:\\Program Files\\NVIDIA Corporation\\Nsight Compute 2022.3.0;C:\\Program Files (x86)\\NetSarang\\Xshell 8;C:\\Users\\Rooki\\.local\\bin;C:\\Users\\Rooki\\AppData\\Local\\Microsoft\\WindowsApps;C:\\Users\\Rooki\\AppData\\Local\\Programs\\cursor\\resources\\app\\bin;C:\\ProgramData\\miniconda3;C:\\ProgramData\\miniconda3\\Scripts;C:\\ProgramData\\miniconda3\\Library\\bin;C:\\Program Files\\NVIDIA GPU Computing Toolkit\\CUDA\\v12.1\\bin;C:\\Program Files\\NVIDIA GPU Computing Toolkit\\CUDA\\v12.1\\libnvvp;C:\\Program Files\\NVIDIA GPU Computing Toolkit\\CUDA\\v12.1\\lib;C:\\Program Files\\NVIDIA GPU Computing Toolkit\\CUDA\\v12.1\\include;.\n",
      "C:\\Program Files\\NVIDIA GPU Computing Toolkit\\CUDA\\v11.8\n",
      "nvcc: NVIDIA (R) Cuda compiler driver\n",
      "Copyright (c) 2005-2022 NVIDIA Corporation\n",
      "Built on Wed_Sep_21_10:41:10_Pacific_Daylight_Time_2022\n",
      "Cuda compilation tools, release 11.8, V11.8.89\n",
      "Build cuda_11.8.r11.8/compiler.31833905_0\n"
     ]
    }
   ],
   "source": [
    "import os\n",
    "\n",
    "# 添加cuda环境变量\n",
    "os.environ[\"CUDA_PATH\"] = r\"C:\\Program Files\\NVIDIA GPU Computing Toolkit\\CUDA\\v11.8\"\n",
    "\n",
    "# 添加cudnn环境变量\n",
    "cudnn_paths = [\n",
    "             r\"C:\\Program Files\\NVIDIA GPU Computing Toolkit\\CUDA\\v11.8\\bin\",\n",
    "             r\"C:\\Program Files\\NVIDIA GPU Computing Toolkit\\CUDA\\v11.8\\libnvvp\",\n",
    "             r\"C:\\Program Files\\NVIDIA GPU Computing Toolkit\\CUDA\\v11.8\\include\",\n",
    "             r\"C:\\Program Files\\NVIDIA GPU Computing Toolkit\\CUDA\\v11.8\\lib\",\n",
    "            ]\n",
    "for cudnn_path in cudnn_paths:\n",
    "    if cudnn_path not in os.environ[\"PATH\"]:\n",
    "        os.environ[\"PATH\"] = cudnn_path + os.pathsep + os.environ[\"PATH\"]\n",
    "\n",
    "print(os.environ[\"PATH\"])\n",
    "print(os.environ[\"CUDA_PATH\"])\n",
    "!nvcc -V"
   ]
  },
  {
   "cell_type": "code",
   "execution_count": 2,
   "metadata": {},
   "outputs": [
    {
     "name": "stdout",
     "output_type": "stream",
     "text": [
      "Mon Apr 21 10:45:26 2025       \n",
      "+-----------------------------------------------------------------------------------------+\n",
      "| NVIDIA-SMI 561.19                 Driver Version: 561.19         CUDA Version: 12.6     |\n",
      "|-----------------------------------------+------------------------+----------------------+\n",
      "| GPU  Name                  Driver-Model | Bus-Id          Disp.A | Volatile Uncorr. ECC |\n",
      "| Fan  Temp   Perf          Pwr:Usage/Cap |           Memory-Usage | GPU-Util  Compute M. |\n",
      "|                                         |                        |               MIG M. |\n",
      "|=========================================+========================+======================|\n",
      "|   0  NVIDIA GeForce RTX 4060 ...  WDDM  |   00000000:01:00.0  On |                  N/A |\n",
      "| N/A   44C    P8              1W /   86W |     504MiB /   8188MiB |      0%      Default |\n",
      "|                                         |                        |                  N/A |\n",
      "+-----------------------------------------+------------------------+----------------------+\n",
      "                                                                                         \n",
      "+-----------------------------------------------------------------------------------------+\n",
      "| Processes:                                                                              |\n",
      "|  GPU   GI   CI        PID   Type   Process name                              GPU Memory |\n",
      "|        ID   ID                                                               Usage      |\n",
      "|=========================================================================================|\n",
      "|    0   N/A  N/A     11692    C+G   C:\\Windows\\explorer.exe                     N/A      |\n",
      "|    0   N/A  N/A     15404    C+G   ...App\\OmenCommandCenterBackground.exe      N/A      |\n",
      "+-----------------------------------------------------------------------------------------+\n"
     ]
    }
   ],
   "source": [
    "!nvidia-smi"
   ]
  },
  {
   "cell_type": "code",
   "execution_count": 3,
   "metadata": {},
   "outputs": [
    {
     "name": "stdout",
     "output_type": "stream",
     "text": [
      "torch.cuda.is_available(): True\n",
      "torch.cuda.get_device_name(0): NVIDIA GeForce RTX 4060 Laptop GPU\n"
     ]
    }
   ],
   "source": [
    "import torch\n",
    "\n",
    "print(f\"torch.cuda.is_available(): {torch.cuda.is_available()}\")\n",
    "print(f\"torch.cuda.get_device_name(0): {torch.cuda.get_device_name(0)}\")\n"
   ]
  },
  {
   "cell_type": "markdown",
   "metadata": {},
   "source": [
    "## 模型"
   ]
  },
  {
   "cell_type": "code",
   "execution_count": null,
   "metadata": {},
   "outputs": [
    {
     "name": "stderr",
     "output_type": "stream",
     "text": [
      "c:\\Users\\Rooki\\.conda\\envs\\yolov12\\Lib\\site-packages\\tqdm\\auto.py:21: TqdmWarning: IProgress not found. Please update jupyter and ipywidgets. See https://ipywidgets.readthedocs.io/en/stable/user_install.html\n",
      "  from .autonotebook import tqdm as notebook_tqdm\n"
     ]
    },
    {
     "name": "stdout",
     "output_type": "stream",
     "text": [
      "FlashAttention is not available on this device. Using scaled_dot_product_attention instead.\n",
      "New https://pypi.org/project/ultralytics/8.3.112 available  Update with 'pip install -U ultralytics'\n",
      "Ultralytics 8.3.63  Python-3.11.11 torch-2.2.2+cu118 CUDA:0 (NVIDIA GeForce RTX 4060 Laptop GPU, 8188MiB)\n",
      "\u001b[34m\u001b[1mengine\\trainer: \u001b[0mtask=detect, mode=train, model=yolov12n.yaml, data=C:\\Users\\Rooki\\Desktop\\AI\\CV\\YOLO\\yolov12\\chengdu_coco_std\\chengdu.yaml, epochs=600, time=None, patience=100, batch=2, imgsz=640, save=True, save_period=-1, cache=False, device=0, workers=8, project=None, name=train4, exist_ok=False, pretrained=True, optimizer=auto, verbose=True, seed=0, deterministic=True, single_cls=False, rect=False, cos_lr=False, close_mosaic=10, resume=False, amp=True, fraction=1.0, profile=False, freeze=None, multi_scale=False, overlap_mask=True, mask_ratio=4, dropout=0.0, val=True, split=val, save_json=False, save_hybrid=False, conf=None, iou=0.7, max_det=300, half=False, dnn=False, plots=True, source=None, vid_stride=1, stream_buffer=False, visualize=False, augment=False, agnostic_nms=False, classes=None, retina_masks=False, embed=None, show=False, save_frames=False, save_txt=False, save_conf=False, save_crop=False, show_labels=True, show_conf=True, show_boxes=True, line_width=None, format=torchscript, keras=False, optimize=False, int8=False, dynamic=False, simplify=True, opset=None, workspace=None, nms=False, lr0=0.01, lrf=0.01, momentum=0.937, weight_decay=0.0005, warmup_epochs=3.0, warmup_momentum=0.8, warmup_bias_lr=0.0, box=7.5, cls=0.5, dfl=1.5, pose=12.0, kobj=1.0, nbs=64, hsv_h=0.015, hsv_s=0.7, hsv_v=0.4, degrees=0.0, translate=0.1, scale=0.5, shear=0.0, perspective=0.0, flipud=0.0, fliplr=0.5, bgr=0.0, mosaic=1.0, mixup=0.0, copy_paste=0.1, copy_paste_mode=flip, auto_augment=randaugment, erasing=0.4, crop_fraction=1.0, cfg=None, tracker=botsort.yaml, save_dir=C:\\Users\\Rooki\\Desktop\\AI\\CV\\YOLO\\yolov12\\runs\\detect\\train4\n",
      "Overriding model.yaml nc=80 with nc=17\n",
      "\n",
      "                   from  n    params  module                                       arguments                     \n",
      "  0                  -1  1       464  ultralytics.nn.modules.conv.Conv             [3, 16, 3, 2]                 \n",
      "  1                  -1  1      2368  ultralytics.nn.modules.conv.Conv             [16, 32, 3, 2, 1, 2]          \n",
      "  2                  -1  1      6640  ultralytics.nn.modules.block.C3k2            [32, 64, 1, False, 0.25]      \n",
      "  3                  -1  1      9344  ultralytics.nn.modules.conv.Conv             [64, 64, 3, 2, 1, 4]          \n",
      "  4                  -1  1     26080  ultralytics.nn.modules.block.C3k2            [64, 128, 1, False, 0.25]     \n",
      "  5                  -1  1    147712  ultralytics.nn.modules.conv.Conv             [128, 128, 3, 2]              \n",
      "  6                  -1  2    174720  ultralytics.nn.modules.block.A2C2f           [128, 128, 2, True, 4]        \n",
      "  7                  -1  1    295424  ultralytics.nn.modules.conv.Conv             [128, 256, 3, 2]              \n",
      "  8                  -1  2    677120  ultralytics.nn.modules.block.A2C2f           [256, 256, 2, True, 1]        \n",
      "  9                  -1  1         0  torch.nn.modules.upsampling.Upsample         [None, 2, 'nearest']          \n",
      " 10             [-1, 6]  1         0  ultralytics.nn.modules.conv.Concat           [1]                           \n",
      " 11                  -1  1     86912  ultralytics.nn.modules.block.A2C2f           [384, 128, 1, False, -1]      \n",
      " 12                  -1  1         0  torch.nn.modules.upsampling.Upsample         [None, 2, 'nearest']          \n",
      " 13             [-1, 4]  1         0  ultralytics.nn.modules.conv.Concat           [1]                           \n",
      " 14                  -1  1     24000  ultralytics.nn.modules.block.A2C2f           [256, 64, 1, False, -1]       \n",
      " 15                  -1  1     36992  ultralytics.nn.modules.conv.Conv             [64, 64, 3, 2]                \n",
      " 16            [-1, 11]  1         0  ultralytics.nn.modules.conv.Concat           [1]                           \n",
      " 17                  -1  1     74624  ultralytics.nn.modules.block.A2C2f           [192, 128, 1, False, -1]      \n",
      " 18                  -1  1    147712  ultralytics.nn.modules.conv.Conv             [128, 128, 3, 2]              \n",
      " 19             [-1, 8]  1         0  ultralytics.nn.modules.conv.Concat           [1]                           \n",
      " 20                  -1  1    378880  ultralytics.nn.modules.block.C3k2            [384, 256, 1, True]           \n",
      " 21        [14, 17, 20]  1    433987  ultralytics.nn.modules.head.Detect           [17, [64, 128, 256]]          \n",
      "YOLOv12n summary: 497 layers, 2,522,979 parameters, 2,522,963 gradients, 6.0 GFLOPs\n",
      "\n",
      "Freezing layer 'model.21.dfl.conv.weight'\n",
      "\u001b[34m\u001b[1mAMP: \u001b[0mrunning Automatic Mixed Precision (AMP) checks...\n",
      "\u001b[34m\u001b[1mAMP: \u001b[0mchecks passed \n"
     ]
    },
    {
     "name": "stderr",
     "output_type": "stream",
     "text": [
      "\u001b[34m\u001b[1mtrain: \u001b[0mScanning C:\\Users\\Rooki\\Desktop\\AI\\CV\\YOLO\\yolov12\\chengdu_coco_std\\labels\\train.cache... 5394 images, 740 backgrounds, 0 corrupt: 100%|██████████| 5394/5394 [00:00<?, ?it/s]\n"
     ]
    },
    {
     "name": "stdout",
     "output_type": "stream",
     "text": [
      "\u001b[34m\u001b[1malbumentations: \u001b[0mBlur(p=0.01, blur_limit=(3, 7)), MedianBlur(p=0.01, blur_limit=(3, 7)), ToGray(p=0.01, num_output_channels=3, method='weighted_average'), CLAHE(p=0.01, clip_limit=(1.0, 4.0), tile_grid_size=(8, 8))\n"
     ]
    },
    {
     "name": "stderr",
     "output_type": "stream",
     "text": [
      "c:\\Users\\Rooki\\.conda\\envs\\yolov12\\Lib\\site-packages\\albumentations\\__init__.py:28: UserWarning: A new version of Albumentations is available: '2.0.5' (you have '2.0.4'). Upgrade using: pip install -U albumentations. To disable automatic update checks, set the environment variable NO_ALBUMENTATIONS_UPDATE to 1.\n",
      "  check_for_updates()\n",
      "c:\\Users\\Rooki\\Desktop\\AI\\CV\\YOLO\\yolov12\\ultralytics\\data\\augment.py:1853: UserWarning: Argument(s) 'quality_lower' are not valid for transform ImageCompression\n",
      "  A.ImageCompression(quality_lower=75, p=0.0),\n",
      "\u001b[34m\u001b[1mval: \u001b[0mScanning C:\\Users\\Rooki\\Desktop\\AI\\CV\\YOLO\\yolov12\\chengdu_coco_std\\labels\\valid.cache... 880 images, 408 backgrounds, 0 corrupt: 100%|██████████| 880/880 [00:00<?, ?it/s]\n"
     ]
    },
    {
     "name": "stdout",
     "output_type": "stream",
     "text": [
      "Plotting labels to C:\\Users\\Rooki\\Desktop\\AI\\CV\\YOLO\\yolov12\\runs\\detect\\train4\\labels.jpg... \n"
     ]
    },
    {
     "name": "stderr",
     "output_type": "stream",
     "text": [
      "c:\\Users\\Rooki\\Desktop\\AI\\CV\\YOLO\\yolov12\\ultralytics\\utils\\plotting.py:954: UserWarning: Glyph 21010 (\\N{CJK UNIFIED IDEOGRAPH-5212}) missing from font(s) DejaVu Sans.\n",
      "  plt.savefig(fname, dpi=200)\n",
      "c:\\Users\\Rooki\\Desktop\\AI\\CV\\YOLO\\yolov12\\ultralytics\\utils\\plotting.py:954: UserWarning: Glyph 30165 (\\N{CJK UNIFIED IDEOGRAPH-75D5}) missing from font(s) DejaVu Sans.\n",
      "  plt.savefig(fname, dpi=200)\n",
      "c:\\Users\\Rooki\\Desktop\\AI\\CV\\YOLO\\yolov12\\ultralytics\\utils\\plotting.py:954: UserWarning: Glyph 21514 (\\N{CJK UNIFIED IDEOGRAPH-540A}) missing from font(s) DejaVu Sans.\n",
      "  plt.savefig(fname, dpi=200)\n",
      "c:\\Users\\Rooki\\Desktop\\AI\\CV\\YOLO\\yolov12\\ultralytics\\utils\\plotting.py:954: UserWarning: Glyph 32039 (\\N{CJK UNIFIED IDEOGRAPH-7D27}) missing from font(s) DejaVu Sans.\n",
      "  plt.savefig(fname, dpi=200)\n",
      "c:\\Users\\Rooki\\Desktop\\AI\\CV\\YOLO\\yolov12\\ultralytics\\utils\\plotting.py:954: UserWarning: Glyph 25340 (\\N{CJK UNIFIED IDEOGRAPH-62FC}) missing from font(s) DejaVu Sans.\n",
      "  plt.savefig(fname, dpi=200)\n",
      "c:\\Users\\Rooki\\Desktop\\AI\\CV\\YOLO\\yolov12\\ultralytics\\utils\\plotting.py:954: UserWarning: Glyph 25509 (\\N{CJK UNIFIED IDEOGRAPH-63A5}) missing from font(s) DejaVu Sans.\n",
      "  plt.savefig(fname, dpi=200)\n",
      "c:\\Users\\Rooki\\Desktop\\AI\\CV\\YOLO\\yolov12\\ultralytics\\utils\\plotting.py:954: UserWarning: Glyph 38388 (\\N{CJK UNIFIED IDEOGRAPH-95F4}) missing from font(s) DejaVu Sans.\n",
      "  plt.savefig(fname, dpi=200)\n",
      "c:\\Users\\Rooki\\Desktop\\AI\\CV\\YOLO\\yolov12\\ultralytics\\utils\\plotting.py:954: UserWarning: Glyph 38553 (\\N{CJK UNIFIED IDEOGRAPH-9699}) missing from font(s) DejaVu Sans.\n",
      "  plt.savefig(fname, dpi=200)\n",
      "c:\\Users\\Rooki\\Desktop\\AI\\CV\\YOLO\\yolov12\\ultralytics\\utils\\plotting.py:954: UserWarning: Glyph 27700 (\\N{CJK UNIFIED IDEOGRAPH-6C34}) missing from font(s) DejaVu Sans.\n",
      "  plt.savefig(fname, dpi=200)\n",
      "c:\\Users\\Rooki\\Desktop\\AI\\CV\\YOLO\\yolov12\\ultralytics\\utils\\plotting.py:954: UserWarning: Glyph 28173 (\\N{CJK UNIFIED IDEOGRAPH-6E0D}) missing from font(s) DejaVu Sans.\n",
      "  plt.savefig(fname, dpi=200)\n",
      "c:\\Users\\Rooki\\Desktop\\AI\\CV\\YOLO\\yolov12\\ultralytics\\utils\\plotting.py:954: UserWarning: Glyph 29664 (\\N{CJK UNIFIED IDEOGRAPH-73E0}) missing from font(s) DejaVu Sans.\n",
      "  plt.savefig(fname, dpi=200)\n",
      "c:\\Users\\Rooki\\Desktop\\AI\\CV\\YOLO\\yolov12\\ultralytics\\utils\\plotting.py:954: UserWarning: Glyph 29190 (\\N{CJK UNIFIED IDEOGRAPH-7206}) missing from font(s) DejaVu Sans.\n",
      "  plt.savefig(fname, dpi=200)\n",
      "c:\\Users\\Rooki\\Desktop\\AI\\CV\\YOLO\\yolov12\\ultralytics\\utils\\plotting.py:954: UserWarning: Glyph 32447 (\\N{CJK UNIFIED IDEOGRAPH-7EBF}) missing from font(s) DejaVu Sans.\n",
      "  plt.savefig(fname, dpi=200)\n",
      "c:\\Users\\Rooki\\Desktop\\AI\\CV\\YOLO\\yolov12\\ultralytics\\utils\\plotting.py:954: UserWarning: Glyph 30772 (\\N{CJK UNIFIED IDEOGRAPH-7834}) missing from font(s) DejaVu Sans.\n",
      "  plt.savefig(fname, dpi=200)\n",
      "c:\\Users\\Rooki\\Desktop\\AI\\CV\\YOLO\\yolov12\\ultralytics\\utils\\plotting.py:954: UserWarning: Glyph 25439 (\\N{CJK UNIFIED IDEOGRAPH-635F}) missing from font(s) DejaVu Sans.\n",
      "  plt.savefig(fname, dpi=200)\n",
      "c:\\Users\\Rooki\\Desktop\\AI\\CV\\YOLO\\yolov12\\ultralytics\\utils\\plotting.py:954: UserWarning: Glyph 30896 (\\N{CJK UNIFIED IDEOGRAPH-78B0}) missing from font(s) DejaVu Sans.\n",
      "  plt.savefig(fname, dpi=200)\n",
      "c:\\Users\\Rooki\\Desktop\\AI\\CV\\YOLO\\yolov12\\ultralytics\\utils\\plotting.py:954: UserWarning: Glyph 20260 (\\N{CJK UNIFIED IDEOGRAPH-4F24}) missing from font(s) DejaVu Sans.\n",
      "  plt.savefig(fname, dpi=200)\n",
      "c:\\Users\\Rooki\\Desktop\\AI\\CV\\YOLO\\yolov12\\ultralytics\\utils\\plotting.py:954: UserWarning: Glyph 32418 (\\N{CJK UNIFIED IDEOGRAPH-7EA2}) missing from font(s) DejaVu Sans.\n",
      "  plt.savefig(fname, dpi=200)\n",
      "c:\\Users\\Rooki\\Desktop\\AI\\CV\\YOLO\\yolov12\\ultralytics\\utils\\plotting.py:954: UserWarning: Glyph 26631 (\\N{CJK UNIFIED IDEOGRAPH-6807}) missing from font(s) DejaVu Sans.\n",
      "  plt.savefig(fname, dpi=200)\n",
      "c:\\Users\\Rooki\\Desktop\\AI\\CV\\YOLO\\yolov12\\ultralytics\\utils\\plotting.py:954: UserWarning: Glyph 31614 (\\N{CJK UNIFIED IDEOGRAPH-7B7E}) missing from font(s) DejaVu Sans.\n",
      "  plt.savefig(fname, dpi=200)\n",
      "c:\\Users\\Rooki\\Desktop\\AI\\CV\\YOLO\\yolov12\\ultralytics\\utils\\plotting.py:954: UserWarning: Glyph 22836 (\\N{CJK UNIFIED IDEOGRAPH-5934}) missing from font(s) DejaVu Sans.\n",
      "  plt.savefig(fname, dpi=200)\n",
      "c:\\Users\\Rooki\\Desktop\\AI\\CV\\YOLO\\yolov12\\ultralytics\\utils\\plotting.py:954: UserWarning: Glyph 32455 (\\N{CJK UNIFIED IDEOGRAPH-7EC7}) missing from font(s) DejaVu Sans.\n",
      "  plt.savefig(fname, dpi=200)\n",
      "c:\\Users\\Rooki\\Desktop\\AI\\CV\\YOLO\\yolov12\\ultralytics\\utils\\plotting.py:954: UserWarning: Glyph 29289 (\\N{CJK UNIFIED IDEOGRAPH-7269}) missing from font(s) DejaVu Sans.\n",
      "  plt.savefig(fname, dpi=200)\n",
      "c:\\Users\\Rooki\\Desktop\\AI\\CV\\YOLO\\yolov12\\ultralytics\\utils\\plotting.py:954: UserWarning: Glyph 22806 (\\N{CJK UNIFIED IDEOGRAPH-5916}) missing from font(s) DejaVu Sans.\n",
      "  plt.savefig(fname, dpi=200)\n",
      "c:\\Users\\Rooki\\Desktop\\AI\\CV\\YOLO\\yolov12\\ultralytics\\utils\\plotting.py:954: UserWarning: Glyph 28431 (\\N{CJK UNIFIED IDEOGRAPH-6F0F}) missing from font(s) DejaVu Sans.\n",
      "  plt.savefig(fname, dpi=200)\n",
      "c:\\Users\\Rooki\\Desktop\\AI\\CV\\YOLO\\yolov12\\ultralytics\\utils\\plotting.py:954: UserWarning: Glyph 32541 (\\N{CJK UNIFIED IDEOGRAPH-7F1D}) missing from font(s) DejaVu Sans.\n",
      "  plt.savefig(fname, dpi=200)\n",
      "c:\\Users\\Rooki\\Desktop\\AI\\CV\\YOLO\\yolov12\\ultralytics\\utils\\plotting.py:954: UserWarning: Glyph 40723 (\\N{CJK UNIFIED IDEOGRAPH-9F13}) missing from font(s) DejaVu Sans.\n",
      "  plt.savefig(fname, dpi=200)\n",
      "c:\\Users\\Rooki\\Desktop\\AI\\CV\\YOLO\\yolov12\\ultralytics\\utils\\plotting.py:954: UserWarning: Glyph 21253 (\\N{CJK UNIFIED IDEOGRAPH-5305}) missing from font(s) DejaVu Sans.\n",
      "  plt.savefig(fname, dpi=200)\n",
      "c:\\Users\\Rooki\\Desktop\\AI\\CV\\YOLO\\yolov12\\ultralytics\\utils\\plotting.py:954: UserWarning: Glyph 36731 (\\N{CJK UNIFIED IDEOGRAPH-8F7B}) missing from font(s) DejaVu Sans.\n",
      "  plt.savefig(fname, dpi=200)\n",
      "c:\\Users\\Rooki\\Desktop\\AI\\CV\\YOLO\\yolov12\\ultralytics\\utils\\plotting.py:954: UserWarning: Glyph 24230 (\\N{CJK UNIFIED IDEOGRAPH-5EA6}) missing from font(s) DejaVu Sans.\n",
      "  plt.savefig(fname, dpi=200)\n",
      "c:\\Users\\Rooki\\Desktop\\AI\\CV\\YOLO\\yolov12\\ultralytics\\utils\\plotting.py:954: UserWarning: Glyph 33039 (\\N{CJK UNIFIED IDEOGRAPH-810F}) missing from font(s) DejaVu Sans.\n",
      "  plt.savefig(fname, dpi=200)\n",
      "c:\\Users\\Rooki\\Desktop\\AI\\CV\\YOLO\\yolov12\\ultralytics\\utils\\plotting.py:954: UserWarning: Glyph 27745 (\\N{CJK UNIFIED IDEOGRAPH-6C61}) missing from font(s) DejaVu Sans.\n",
      "  plt.savefig(fname, dpi=200)\n",
      "c:\\Users\\Rooki\\Desktop\\AI\\CV\\YOLO\\yolov12\\ultralytics\\utils\\plotting.py:954: UserWarning: Glyph 35126 (\\N{CJK UNIFIED IDEOGRAPH-8936}) missing from font(s) DejaVu Sans.\n",
      "  plt.savefig(fname, dpi=200)\n",
      "c:\\Users\\Rooki\\Desktop\\AI\\CV\\YOLO\\yolov12\\ultralytics\\utils\\plotting.py:954: UserWarning: Glyph 30385 (\\N{CJK UNIFIED IDEOGRAPH-76B1}) missing from font(s) DejaVu Sans.\n",
      "  plt.savefig(fname, dpi=200)\n",
      "c:\\Users\\Rooki\\Desktop\\AI\\CV\\YOLO\\yolov12\\ultralytics\\utils\\plotting.py:954: UserWarning: Glyph 65288 (\\N{FULLWIDTH LEFT PARENTHESIS}) missing from font(s) DejaVu Sans.\n",
      "  plt.savefig(fname, dpi=200)\n",
      "c:\\Users\\Rooki\\Desktop\\AI\\CV\\YOLO\\yolov12\\ultralytics\\utils\\plotting.py:954: UserWarning: Glyph 65289 (\\N{FULLWIDTH RIGHT PARENTHESIS}) missing from font(s) DejaVu Sans.\n",
      "  plt.savefig(fname, dpi=200)\n",
      "c:\\Users\\Rooki\\Desktop\\AI\\CV\\YOLO\\yolov12\\ultralytics\\utils\\plotting.py:954: UserWarning: Glyph 37325 (\\N{CJK UNIFIED IDEOGRAPH-91CD}) missing from font(s) DejaVu Sans.\n",
      "  plt.savefig(fname, dpi=200)\n",
      "c:\\Users\\Rooki\\Desktop\\AI\\CV\\YOLO\\yolov12\\ultralytics\\utils\\plotting.py:954: UserWarning: Glyph 36339 (\\N{CJK UNIFIED IDEOGRAPH-8DF3}) missing from font(s) DejaVu Sans.\n",
      "  plt.savefig(fname, dpi=200)\n",
      "c:\\Users\\Rooki\\Desktop\\AI\\CV\\YOLO\\yolov12\\ultralytics\\utils\\plotting.py:954: UserWarning: Glyph 38024 (\\N{CJK UNIFIED IDEOGRAPH-9488}) missing from font(s) DejaVu Sans.\n",
      "  plt.savefig(fname, dpi=200)\n",
      "c:\\Users\\Rooki\\Desktop\\AI\\CV\\YOLO\\yolov12\\ultralytics\\utils\\plotting.py:954: UserWarning: Glyph 30524 (\\N{CJK UNIFIED IDEOGRAPH-773C}) missing from font(s) DejaVu Sans.\n",
      "  plt.savefig(fname, dpi=200)\n",
      "c:\\Users\\Rooki\\Desktop\\AI\\CV\\YOLO\\yolov12\\ultralytics\\utils\\plotting.py:954: UserWarning: Glyph 21010 (\\N{CJK UNIFIED IDEOGRAPH-5212}) missing from font(s) DejaVu Sans.\n",
      "  plt.savefig(fname, dpi=200)\n",
      "c:\\Users\\Rooki\\Desktop\\AI\\CV\\YOLO\\yolov12\\ultralytics\\utils\\plotting.py:954: UserWarning: Glyph 30165 (\\N{CJK UNIFIED IDEOGRAPH-75D5}) missing from font(s) DejaVu Sans.\n",
      "  plt.savefig(fname, dpi=200)\n",
      "c:\\Users\\Rooki\\Desktop\\AI\\CV\\YOLO\\yolov12\\ultralytics\\utils\\plotting.py:954: UserWarning: Glyph 21514 (\\N{CJK UNIFIED IDEOGRAPH-540A}) missing from font(s) DejaVu Sans.\n",
      "  plt.savefig(fname, dpi=200)\n",
      "c:\\Users\\Rooki\\Desktop\\AI\\CV\\YOLO\\yolov12\\ultralytics\\utils\\plotting.py:954: UserWarning: Glyph 32039 (\\N{CJK UNIFIED IDEOGRAPH-7D27}) missing from font(s) DejaVu Sans.\n",
      "  plt.savefig(fname, dpi=200)\n",
      "c:\\Users\\Rooki\\Desktop\\AI\\CV\\YOLO\\yolov12\\ultralytics\\utils\\plotting.py:954: UserWarning: Glyph 25340 (\\N{CJK UNIFIED IDEOGRAPH-62FC}) missing from font(s) DejaVu Sans.\n",
      "  plt.savefig(fname, dpi=200)\n",
      "c:\\Users\\Rooki\\Desktop\\AI\\CV\\YOLO\\yolov12\\ultralytics\\utils\\plotting.py:954: UserWarning: Glyph 25509 (\\N{CJK UNIFIED IDEOGRAPH-63A5}) missing from font(s) DejaVu Sans.\n",
      "  plt.savefig(fname, dpi=200)\n",
      "c:\\Users\\Rooki\\Desktop\\AI\\CV\\YOLO\\yolov12\\ultralytics\\utils\\plotting.py:954: UserWarning: Glyph 38388 (\\N{CJK UNIFIED IDEOGRAPH-95F4}) missing from font(s) DejaVu Sans.\n",
      "  plt.savefig(fname, dpi=200)\n",
      "c:\\Users\\Rooki\\Desktop\\AI\\CV\\YOLO\\yolov12\\ultralytics\\utils\\plotting.py:954: UserWarning: Glyph 38553 (\\N{CJK UNIFIED IDEOGRAPH-9699}) missing from font(s) DejaVu Sans.\n",
      "  plt.savefig(fname, dpi=200)\n",
      "c:\\Users\\Rooki\\Desktop\\AI\\CV\\YOLO\\yolov12\\ultralytics\\utils\\plotting.py:954: UserWarning: Glyph 27700 (\\N{CJK UNIFIED IDEOGRAPH-6C34}) missing from font(s) DejaVu Sans.\n",
      "  plt.savefig(fname, dpi=200)\n",
      "c:\\Users\\Rooki\\Desktop\\AI\\CV\\YOLO\\yolov12\\ultralytics\\utils\\plotting.py:954: UserWarning: Glyph 28173 (\\N{CJK UNIFIED IDEOGRAPH-6E0D}) missing from font(s) DejaVu Sans.\n",
      "  plt.savefig(fname, dpi=200)\n",
      "c:\\Users\\Rooki\\Desktop\\AI\\CV\\YOLO\\yolov12\\ultralytics\\utils\\plotting.py:954: UserWarning: Glyph 29664 (\\N{CJK UNIFIED IDEOGRAPH-73E0}) missing from font(s) DejaVu Sans.\n",
      "  plt.savefig(fname, dpi=200)\n",
      "c:\\Users\\Rooki\\Desktop\\AI\\CV\\YOLO\\yolov12\\ultralytics\\utils\\plotting.py:954: UserWarning: Glyph 29190 (\\N{CJK UNIFIED IDEOGRAPH-7206}) missing from font(s) DejaVu Sans.\n",
      "  plt.savefig(fname, dpi=200)\n",
      "c:\\Users\\Rooki\\Desktop\\AI\\CV\\YOLO\\yolov12\\ultralytics\\utils\\plotting.py:954: UserWarning: Glyph 32447 (\\N{CJK UNIFIED IDEOGRAPH-7EBF}) missing from font(s) DejaVu Sans.\n",
      "  plt.savefig(fname, dpi=200)\n",
      "c:\\Users\\Rooki\\Desktop\\AI\\CV\\YOLO\\yolov12\\ultralytics\\utils\\plotting.py:954: UserWarning: Glyph 30772 (\\N{CJK UNIFIED IDEOGRAPH-7834}) missing from font(s) DejaVu Sans.\n",
      "  plt.savefig(fname, dpi=200)\n",
      "c:\\Users\\Rooki\\Desktop\\AI\\CV\\YOLO\\yolov12\\ultralytics\\utils\\plotting.py:954: UserWarning: Glyph 25439 (\\N{CJK UNIFIED IDEOGRAPH-635F}) missing from font(s) DejaVu Sans.\n",
      "  plt.savefig(fname, dpi=200)\n",
      "c:\\Users\\Rooki\\Desktop\\AI\\CV\\YOLO\\yolov12\\ultralytics\\utils\\plotting.py:954: UserWarning: Glyph 30896 (\\N{CJK UNIFIED IDEOGRAPH-78B0}) missing from font(s) DejaVu Sans.\n",
      "  plt.savefig(fname, dpi=200)\n",
      "c:\\Users\\Rooki\\Desktop\\AI\\CV\\YOLO\\yolov12\\ultralytics\\utils\\plotting.py:954: UserWarning: Glyph 20260 (\\N{CJK UNIFIED IDEOGRAPH-4F24}) missing from font(s) DejaVu Sans.\n",
      "  plt.savefig(fname, dpi=200)\n",
      "c:\\Users\\Rooki\\Desktop\\AI\\CV\\YOLO\\yolov12\\ultralytics\\utils\\plotting.py:954: UserWarning: Glyph 32418 (\\N{CJK UNIFIED IDEOGRAPH-7EA2}) missing from font(s) DejaVu Sans.\n",
      "  plt.savefig(fname, dpi=200)\n",
      "c:\\Users\\Rooki\\Desktop\\AI\\CV\\YOLO\\yolov12\\ultralytics\\utils\\plotting.py:954: UserWarning: Glyph 26631 (\\N{CJK UNIFIED IDEOGRAPH-6807}) missing from font(s) DejaVu Sans.\n",
      "  plt.savefig(fname, dpi=200)\n",
      "c:\\Users\\Rooki\\Desktop\\AI\\CV\\YOLO\\yolov12\\ultralytics\\utils\\plotting.py:954: UserWarning: Glyph 31614 (\\N{CJK UNIFIED IDEOGRAPH-7B7E}) missing from font(s) DejaVu Sans.\n",
      "  plt.savefig(fname, dpi=200)\n",
      "c:\\Users\\Rooki\\Desktop\\AI\\CV\\YOLO\\yolov12\\ultralytics\\utils\\plotting.py:954: UserWarning: Glyph 22836 (\\N{CJK UNIFIED IDEOGRAPH-5934}) missing from font(s) DejaVu Sans.\n",
      "  plt.savefig(fname, dpi=200)\n",
      "c:\\Users\\Rooki\\Desktop\\AI\\CV\\YOLO\\yolov12\\ultralytics\\utils\\plotting.py:954: UserWarning: Glyph 32455 (\\N{CJK UNIFIED IDEOGRAPH-7EC7}) missing from font(s) DejaVu Sans.\n",
      "  plt.savefig(fname, dpi=200)\n",
      "c:\\Users\\Rooki\\Desktop\\AI\\CV\\YOLO\\yolov12\\ultralytics\\utils\\plotting.py:954: UserWarning: Glyph 29289 (\\N{CJK UNIFIED IDEOGRAPH-7269}) missing from font(s) DejaVu Sans.\n",
      "  plt.savefig(fname, dpi=200)\n",
      "c:\\Users\\Rooki\\Desktop\\AI\\CV\\YOLO\\yolov12\\ultralytics\\utils\\plotting.py:954: UserWarning: Glyph 22806 (\\N{CJK UNIFIED IDEOGRAPH-5916}) missing from font(s) DejaVu Sans.\n",
      "  plt.savefig(fname, dpi=200)\n",
      "c:\\Users\\Rooki\\Desktop\\AI\\CV\\YOLO\\yolov12\\ultralytics\\utils\\plotting.py:954: UserWarning: Glyph 28431 (\\N{CJK UNIFIED IDEOGRAPH-6F0F}) missing from font(s) DejaVu Sans.\n",
      "  plt.savefig(fname, dpi=200)\n",
      "c:\\Users\\Rooki\\Desktop\\AI\\CV\\YOLO\\yolov12\\ultralytics\\utils\\plotting.py:954: UserWarning: Glyph 32541 (\\N{CJK UNIFIED IDEOGRAPH-7F1D}) missing from font(s) DejaVu Sans.\n",
      "  plt.savefig(fname, dpi=200)\n",
      "c:\\Users\\Rooki\\Desktop\\AI\\CV\\YOLO\\yolov12\\ultralytics\\utils\\plotting.py:954: UserWarning: Glyph 40723 (\\N{CJK UNIFIED IDEOGRAPH-9F13}) missing from font(s) DejaVu Sans.\n",
      "  plt.savefig(fname, dpi=200)\n",
      "c:\\Users\\Rooki\\Desktop\\AI\\CV\\YOLO\\yolov12\\ultralytics\\utils\\plotting.py:954: UserWarning: Glyph 21253 (\\N{CJK UNIFIED IDEOGRAPH-5305}) missing from font(s) DejaVu Sans.\n",
      "  plt.savefig(fname, dpi=200)\n",
      "c:\\Users\\Rooki\\Desktop\\AI\\CV\\YOLO\\yolov12\\ultralytics\\utils\\plotting.py:954: UserWarning: Glyph 36731 (\\N{CJK UNIFIED IDEOGRAPH-8F7B}) missing from font(s) DejaVu Sans.\n",
      "  plt.savefig(fname, dpi=200)\n",
      "c:\\Users\\Rooki\\Desktop\\AI\\CV\\YOLO\\yolov12\\ultralytics\\utils\\plotting.py:954: UserWarning: Glyph 24230 (\\N{CJK UNIFIED IDEOGRAPH-5EA6}) missing from font(s) DejaVu Sans.\n",
      "  plt.savefig(fname, dpi=200)\n",
      "c:\\Users\\Rooki\\Desktop\\AI\\CV\\YOLO\\yolov12\\ultralytics\\utils\\plotting.py:954: UserWarning: Glyph 33039 (\\N{CJK UNIFIED IDEOGRAPH-810F}) missing from font(s) DejaVu Sans.\n",
      "  plt.savefig(fname, dpi=200)\n",
      "c:\\Users\\Rooki\\Desktop\\AI\\CV\\YOLO\\yolov12\\ultralytics\\utils\\plotting.py:954: UserWarning: Glyph 27745 (\\N{CJK UNIFIED IDEOGRAPH-6C61}) missing from font(s) DejaVu Sans.\n",
      "  plt.savefig(fname, dpi=200)\n",
      "c:\\Users\\Rooki\\Desktop\\AI\\CV\\YOLO\\yolov12\\ultralytics\\utils\\plotting.py:954: UserWarning: Glyph 35126 (\\N{CJK UNIFIED IDEOGRAPH-8936}) missing from font(s) DejaVu Sans.\n",
      "  plt.savefig(fname, dpi=200)\n",
      "c:\\Users\\Rooki\\Desktop\\AI\\CV\\YOLO\\yolov12\\ultralytics\\utils\\plotting.py:954: UserWarning: Glyph 30385 (\\N{CJK UNIFIED IDEOGRAPH-76B1}) missing from font(s) DejaVu Sans.\n",
      "  plt.savefig(fname, dpi=200)\n",
      "c:\\Users\\Rooki\\Desktop\\AI\\CV\\YOLO\\yolov12\\ultralytics\\utils\\plotting.py:954: UserWarning: Glyph 65288 (\\N{FULLWIDTH LEFT PARENTHESIS}) missing from font(s) DejaVu Sans.\n",
      "  plt.savefig(fname, dpi=200)\n",
      "c:\\Users\\Rooki\\Desktop\\AI\\CV\\YOLO\\yolov12\\ultralytics\\utils\\plotting.py:954: UserWarning: Glyph 65289 (\\N{FULLWIDTH RIGHT PARENTHESIS}) missing from font(s) DejaVu Sans.\n",
      "  plt.savefig(fname, dpi=200)\n",
      "c:\\Users\\Rooki\\Desktop\\AI\\CV\\YOLO\\yolov12\\ultralytics\\utils\\plotting.py:954: UserWarning: Glyph 37325 (\\N{CJK UNIFIED IDEOGRAPH-91CD}) missing from font(s) DejaVu Sans.\n",
      "  plt.savefig(fname, dpi=200)\n",
      "c:\\Users\\Rooki\\Desktop\\AI\\CV\\YOLO\\yolov12\\ultralytics\\utils\\plotting.py:954: UserWarning: Glyph 36339 (\\N{CJK UNIFIED IDEOGRAPH-8DF3}) missing from font(s) DejaVu Sans.\n",
      "  plt.savefig(fname, dpi=200)\n",
      "c:\\Users\\Rooki\\Desktop\\AI\\CV\\YOLO\\yolov12\\ultralytics\\utils\\plotting.py:954: UserWarning: Glyph 38024 (\\N{CJK UNIFIED IDEOGRAPH-9488}) missing from font(s) DejaVu Sans.\n",
      "  plt.savefig(fname, dpi=200)\n",
      "c:\\Users\\Rooki\\Desktop\\AI\\CV\\YOLO\\yolov12\\ultralytics\\utils\\plotting.py:954: UserWarning: Glyph 30524 (\\N{CJK UNIFIED IDEOGRAPH-773C}) missing from font(s) DejaVu Sans.\n",
      "  plt.savefig(fname, dpi=200)\n"
     ]
    },
    {
     "name": "stdout",
     "output_type": "stream",
     "text": [
      "\u001b[34m\u001b[1moptimizer:\u001b[0m 'optimizer=auto' found, ignoring 'lr0=0.01' and 'momentum=0.937' and determining best 'optimizer', 'lr0' and 'momentum' automatically... \n",
      "\u001b[34m\u001b[1moptimizer:\u001b[0m SGD(lr=0.01, momentum=0.9) with parameter groups 121 weight(decay=0.0), 128 weight(decay=0.0005), 127 bias(decay=0.0)\n",
      "Image sizes 640 train, 640 val\n",
      "Using 8 dataloader workers\n",
      "Logging results to \u001b[1mC:\\Users\\Rooki\\Desktop\\AI\\CV\\YOLO\\yolov12\\runs\\detect\\train4\u001b[0m\n",
      "Starting training for 600 epochs...\n",
      "\n",
      "      Epoch    GPU_mem   box_loss   cls_loss   dfl_loss  Instances       Size\n"
     ]
    },
    {
     "name": "stderr",
     "output_type": "stream",
     "text": [
      "      1/600     0.755G      4.084      11.17       3.65          3        640: 100%|██████████| 2697/2697 [04:46<00:00,  9.41it/s]\n",
      "                 Class     Images  Instances      Box(P          R      mAP50  mAP50-95): 100%|██████████| 220/220 [00:13<00:00, 16.57it/s]\n"
     ]
    },
    {
     "name": "stdout",
     "output_type": "stream",
     "text": [
      "                   all        880       1628   0.000133     0.0107    7.5e-05    1.4e-05\n",
      "\n",
      "      Epoch    GPU_mem   box_loss   cls_loss   dfl_loss  Instances       Size\n"
     ]
    },
    {
     "name": "stderr",
     "output_type": "stream",
     "text": [
      "      2/600     0.895G      3.927      8.956      3.394          5        640: 100%|██████████| 2697/2697 [05:06<00:00,  8.80it/s]\n",
      "                 Class     Images  Instances      Box(P          R      mAP50  mAP50-95): 100%|██████████| 220/220 [00:09<00:00, 22.28it/s]"
     ]
    },
    {
     "name": "stdout",
     "output_type": "stream",
     "text": [
      "                   all        880       1628   0.000344     0.0141    0.00022   5.29e-05\n"
     ]
    },
    {
     "name": "stderr",
     "output_type": "stream",
     "text": [
      "\n"
     ]
    },
    {
     "name": "stdout",
     "output_type": "stream",
     "text": [
      "\n",
      "      Epoch    GPU_mem   box_loss   cls_loss   dfl_loss  Instances       Size\n"
     ]
    },
    {
     "name": "stderr",
     "output_type": "stream",
     "text": [
      "      3/600     0.891G      3.497      5.468      2.948          1        640: 100%|██████████| 2697/2697 [04:26<00:00, 10.14it/s]\n",
      "                 Class     Images  Instances      Box(P          R      mAP50  mAP50-95): 100%|██████████| 220/220 [00:08<00:00, 25.59it/s]"
     ]
    },
    {
     "name": "stdout",
     "output_type": "stream",
     "text": [
      "                   all        880       1628   0.000845     0.0158   0.000667   0.000161\n"
     ]
    },
    {
     "name": "stderr",
     "output_type": "stream",
     "text": [
      "\n"
     ]
    },
    {
     "name": "stdout",
     "output_type": "stream",
     "text": [
      "\n",
      "      Epoch    GPU_mem   box_loss   cls_loss   dfl_loss  Instances       Size\n"
     ]
    },
    {
     "name": "stderr",
     "output_type": "stream",
     "text": [
      "      4/600     0.889G      3.344      4.919      2.704          1        640: 100%|██████████| 2697/2697 [04:49<00:00,  9.33it/s]\n",
      "                 Class     Images  Instances      Box(P          R      mAP50  mAP50-95): 100%|██████████| 220/220 [00:10<00:00, 20.99it/s]"
     ]
    },
    {
     "name": "stdout",
     "output_type": "stream",
     "text": [
      "                   all        880       1628    0.00186     0.0585    0.00398   0.000777\n"
     ]
    },
    {
     "name": "stderr",
     "output_type": "stream",
     "text": [
      "\n"
     ]
    },
    {
     "name": "stdout",
     "output_type": "stream",
     "text": [
      "\n",
      "      Epoch    GPU_mem   box_loss   cls_loss   dfl_loss  Instances       Size\n"
     ]
    },
    {
     "name": "stderr",
     "output_type": "stream",
     "text": [
      "      5/600     0.889G      3.251      4.807      2.644          6        640:  19%|█▊        | 501/2697 [00:53<03:40,  9.96it/s]"
     ]
    }
   ],
   "source": [
    "from ultralytics import YOLO\n",
    "\n",
    "model = YOLO(\"yolov12n.yaml\")\n",
    "\n",
    "results = model.train(\n",
    "  data=r'C:\\Users\\Rooki\\Desktop\\AI\\CV\\YOLO\\yolov12\\chengdu_coco_std\\chengdu.yaml',\n",
    "  epochs=600, \n",
    "  batch=2, \n",
    "  imgsz=640,\n",
    "  scale=0.5,  # S:0.9; M:0.9; L:0.9; X:0.9\n",
    "  mosaic=1.0,\n",
    "  mixup=0.0,  # S:0.05; M:0.15; L:0.15; X:0.2\n",
    "  copy_paste=0.1,  # S:0.15; M:0.4; L:0.5; X:0.6\n",
    "  device=\"0\",\n",
    ")"
   ]
  },
  {
   "cell_type": "code",
   "execution_count": null,
   "metadata": {},
   "outputs": [],
   "source": []
  }
 ],
 "metadata": {
  "kernelspec": {
   "display_name": "yolov12",
   "language": "python",
   "name": "python3"
  },
  "language_info": {
   "codemirror_mode": {
    "name": "ipython",
    "version": 3
   },
   "file_extension": ".py",
   "mimetype": "text/x-python",
   "name": "python",
   "nbconvert_exporter": "python",
   "pygments_lexer": "ipython3",
   "version": "3.11.11"
  }
 },
 "nbformat": 4,
 "nbformat_minor": 2
}
